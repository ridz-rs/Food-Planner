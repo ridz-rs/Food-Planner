{
 "metadata": {
  "language_info": {
   "codemirror_mode": {
    "name": "ipython",
    "version": 3
   },
   "file_extension": ".py",
   "mimetype": "text/x-python",
   "name": "python",
   "nbconvert_exporter": "python",
   "pygments_lexer": "ipython3",
   "version": "3.7.4-final"
  },
  "orig_nbformat": 2,
  "kernelspec": {
   "name": "python_defaultSpec_1598406148161",
   "display_name": "Python 3.7.4 64-bit"
  }
 },
 "nbformat": 4,
 "nbformat_minor": 2,
 "cells": [
  {
   "cell_type": "code",
   "execution_count": 15,
   "metadata": {},
   "outputs": [
    {
     "output_type": "execute_result",
     "data": {
      "text/plain": "                           Name  Serving Size  Calories              Category\n0              Black Forest Ham         219.0     260.0  Subway Sandwich Menu\n1          Oven Roasted Chicken         226.0     280.0  Subway Sandwich Menu\n2                    Roast Beef         219.0     260.0  Subway Sandwich Menu\n3                   Subway Club         233.0     270.0  Subway Sandwich Menu\n4  Sweet Onion Chicken Teriyaki         265.0     330.0  Subway Sandwich Menu",
      "text/html": "<div>\n<style scoped>\n    .dataframe tbody tr th:only-of-type {\n        vertical-align: middle;\n    }\n\n    .dataframe tbody tr th {\n        vertical-align: top;\n    }\n\n    .dataframe thead th {\n        text-align: right;\n    }\n</style>\n<table border=\"1\" class=\"dataframe\">\n  <thead>\n    <tr style=\"text-align: right;\">\n      <th></th>\n      <th>Name</th>\n      <th>Serving Size</th>\n      <th>Calories</th>\n      <th>Category</th>\n    </tr>\n  </thead>\n  <tbody>\n    <tr>\n      <th>0</th>\n      <td>Black Forest Ham</td>\n      <td>219.0</td>\n      <td>260.0</td>\n      <td>Subway Sandwich Menu</td>\n    </tr>\n    <tr>\n      <th>1</th>\n      <td>Oven Roasted Chicken</td>\n      <td>226.0</td>\n      <td>280.0</td>\n      <td>Subway Sandwich Menu</td>\n    </tr>\n    <tr>\n      <th>2</th>\n      <td>Roast Beef</td>\n      <td>219.0</td>\n      <td>260.0</td>\n      <td>Subway Sandwich Menu</td>\n    </tr>\n    <tr>\n      <th>3</th>\n      <td>Subway Club</td>\n      <td>233.0</td>\n      <td>270.0</td>\n      <td>Subway Sandwich Menu</td>\n    </tr>\n    <tr>\n      <th>4</th>\n      <td>Sweet Onion Chicken Teriyaki</td>\n      <td>265.0</td>\n      <td>330.0</td>\n      <td>Subway Sandwich Menu</td>\n    </tr>\n  </tbody>\n</table>\n</div>"
     },
     "metadata": {},
     "execution_count": 15
    }
   ],
   "source": [
    "import pandas as pd\n",
    "import csv\n",
    "target_data = pd.read_csv(\"SubwayData_raw.csv\") # use rows from here\n",
    "calories_data = pd.read_csv(\"Sub_calorie_data.csv\") # get calories from here\n",
    "with open('merged_Subway_data.csv', 'w') as f:\n",
    "    file_writer = csv.writer(f)\n",
    "    file_writer.writerow(['Name', 'Calories', 'Price', 'Type', 'Size'])\n",
    "calories_data.head()"
   ]
  },
  {
   "cell_type": "code",
   "execution_count": 16,
   "metadata": {},
   "outputs": [
    {
     "output_type": "execute_result",
     "data": {
      "text/plain": "array(['Subway Sandwich Menu', 'Subway Kids Meal',\n       'Subway Signature Wraps', 'Subway Chopped Salads Menu',\n       'Subway Breakfast Menu'], dtype=object)"
     },
     "metadata": {},
     "execution_count": 16
    }
   ],
   "source": [
    "categories = calories_data['Category']\n",
    "categories = pd.unique(categories)\n",
    "categories"
   ]
  },
  {
   "cell_type": "code",
   "execution_count": 17,
   "metadata": {},
   "outputs": [],
   "source": [
    "def find_item(item_name, category, data_frame=target_data):\n",
    "    categories_df = data_frame.groupby(\"Category\")\n",
    "    ofcategory_df = categories_df.get_group(category)\n",
    "    row = ofcategory_df.loc[ofcategory_df['Food Item']==item_name]\n",
    "    return row"
   ]
  },
  {
   "cell_type": "code",
   "execution_count": 18,
   "metadata": {
    "tags": []
   },
   "outputs": [
    {
     "output_type": "stream",
     "name": "stdout",
     "text": "Footlong\nSix Inch\n"
    }
   ],
   "source": [
    "out = find_item(\"Ultimate Steak\", \"Subway Sandwich Menu\")\n",
    "for row in out.iterrows():\n",
    "    print(row[1]['Size'])"
   ]
  },
  {
   "cell_type": "code",
   "execution_count": 19,
   "metadata": {},
   "outputs": [],
   "source": [
    "def write_to_file(lst, csv_file='merged_Subway_data.csv'):\n",
    "    with open(csv_file, 'a') as f:\n",
    "        csv_writer = csv.writer(f)\n",
    "        csv_writer.writerow(lst)"
   ]
  },
  {
   "cell_type": "code",
   "execution_count": 20,
   "metadata": {},
   "outputs": [],
   "source": [
    "def merge(item_name, category, calories):\n",
    "    sub_df = find_item(item_name, category) # finds row with items in target_data\n",
    "    for row in sub_df.iterrows():\n",
    "        if item_name in row[1]['Food Item'] or row[1]['Food Item'] in item_name:\n",
    "            if row[1]['Size'] ==\"Footlong\":\n",
    "                write_to_file([item_name,calories*2,row[1]['Price'],row[1]['Category'],row[1]['Size']])\n",
    "            elif row[1]['Size']==\"Six Inch\" or \"NaN\":\n",
    "                write_to_file([item_name,calories,row[1]['Price'],row[1]['Category'],row[1]['Size']])\n",
    "            else:\n",
    "                print(row[1])"
   ]
  },
  {
   "cell_type": "code",
   "execution_count": 21,
   "metadata": {
    "tags": []
   },
   "outputs": [],
   "source": [
    "for category in categories:\n",
    "    category_df = calories_data.groupby(\"Category\").get_group(category)\n",
    "    for row in category_df.iterrows():\n",
    "        merge(row[1]['Name'], category, float(row[1]['Calories']))"
   ]
  },
  {
   "cell_type": "code",
   "execution_count": null,
   "metadata": {},
   "outputs": [],
   "source": []
  },
  {
   "cell_type": "code",
   "execution_count": null,
   "metadata": {},
   "outputs": [],
   "source": []
  }
 ]
}